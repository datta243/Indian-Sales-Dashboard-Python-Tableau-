{
 "cells": [
  {
   "cell_type": "code",
   "execution_count": 1,
   "id": "d7de2e8d",
   "metadata": {},
   "outputs": [
    {
     "name": "stdout",
     "output_type": "stream",
     "text": [
      "Requirement already satisfied: faker in c:\\users\\vagee\\anaconda3\\lib\\site-packages (37.3.0)\n",
      "Requirement already satisfied: tzdata in c:\\users\\vagee\\anaconda3\\lib\\site-packages (from faker) (2025.2)\n"
     ]
    }
   ],
   "source": [
    "!pip install faker"
   ]
  },
  {
   "cell_type": "code",
   "execution_count": 2,
   "id": "17ed44a9",
   "metadata": {},
   "outputs": [
    {
     "name": "stdout",
     "output_type": "stream",
     "text": [
      "✅ Indian sales data generated: 'indian_sales_data.csv'\n"
     ]
    }
   ],
   "source": [
    "import pandas as pd\n",
    "import numpy as np\n",
    "from faker import Faker\n",
    "import random\n",
    "\n",
    "fake = Faker()\n",
    "\n",
    "# Define Indian regions and cities\n",
    "regions = {\n",
    "    'North': ['Delhi', 'Chandigarh', 'Jaipur', 'Lucknow'],\n",
    "    'South': ['Bangalore', 'Chennai', 'Hyderabad', 'Kochi'],\n",
    "    'East': ['Kolkata', 'Bhubaneswar', 'Patna', 'Guwahati'],\n",
    "    'West': ['Mumbai', 'Pune', 'Ahmedabad', 'Surat']\n",
    "}\n",
    "\n",
    "categories = ['Furniture', 'Office Supplies', 'Technology']\n",
    "subcategories = {\n",
    "    'Furniture': ['Chairs', 'Tables', 'Sofas'],\n",
    "    'Office Supplies': ['Binders', 'Paper', 'Staplers'],\n",
    "    'Technology': ['Phones', 'Laptops', 'Printers']\n",
    "}\n",
    "\n",
    "# Generate dummy sales data\n",
    "data = []\n",
    "for _ in range(1000):\n",
    "    order_id = fake.uuid4()\n",
    "    order_date = fake.date_between(start_date='-2y', end_date='today')\n",
    "    region = random.choice(list(regions.keys()))\n",
    "    city = random.choice(regions[region])\n",
    "    category = random.choice(categories)\n",
    "    subcategory = random.choice(subcategories[category])\n",
    "    sales = round(random.uniform(100, 10000), 2)\n",
    "    quantity = random.randint(1, 15)\n",
    "    profit = round(sales * random.uniform(0.05, 0.25), 2)\n",
    "\n",
    "    data.append([\n",
    "        order_id, order_date, region, city, category, \n",
    "        subcategory, sales, quantity, profit\n",
    "    ])\n",
    "\n",
    "# Create DataFrame\n",
    "df = pd.DataFrame(data, columns=[\n",
    "    'Order ID', 'Order Date', 'Region', 'City', 'Category', \n",
    "    'Subcategory', 'Sales', 'Quantity', 'Profit'\n",
    "])\n",
    "\n",
    "# Save as CSV\n",
    "df.to_csv('indian_sales_data.csv', index=False)\n",
    "print(\"✅ Indian sales data generated: 'indian_sales_data.csv'\")\n"
   ]
  },
  {
   "cell_type": "code",
   "execution_count": null,
   "id": "2cd4af86",
   "metadata": {},
   "outputs": [],
   "source": []
  }
 ],
 "metadata": {
  "kernelspec": {
   "display_name": "Python 3 (ipykernel)",
   "language": "python",
   "name": "python3"
  },
  "language_info": {
   "codemirror_mode": {
    "name": "ipython",
    "version": 3
   },
   "file_extension": ".py",
   "mimetype": "text/x-python",
   "name": "python",
   "nbconvert_exporter": "python",
   "pygments_lexer": "ipython3",
   "version": "3.11.4"
  }
 },
 "nbformat": 4,
 "nbformat_minor": 5
}
